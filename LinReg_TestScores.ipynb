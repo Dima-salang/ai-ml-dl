{
  "cells": [
    {
      "cell_type": "markdown",
      "metadata": {
        "id": "view-in-github",
        "colab_type": "text"
      },
      "source": [
        "<a href=\"https://colab.research.google.com/github/Dima-salang/ai-ml-dl/blob/main/LinReg_TestScores.ipynb\" target=\"_parent\"><img src=\"https://colab.research.google.com/assets/colab-badge.svg\" alt=\"Open In Colab\"/></a>"
      ]
    },
    {
      "cell_type": "markdown",
      "metadata": {
        "id": "m9Lx-kKnCgjW"
      },
      "source": [
        "# Predicting Test Scores using Linear Regression\n",
        "\n"
      ]
    },
    {
      "cell_type": "code",
      "execution_count": 3,
      "metadata": {
        "colab": {
          "base_uri": "https://localhost:8080/"
        },
        "id": "R-PaKWFWFb6h",
        "outputId": "6ae43a85-5b5d-4560-9d30-a1296350b078"
      },
      "outputs": [
        {
          "output_type": "stream",
          "name": "stdout",
          "text": [
            "(19243, 9)\n",
            "(19243, 3)\n",
            "Prediction:  [[65.29234698 74.05578852 73.82898441]\n",
            " [70.18735776 79.04771199 80.85422916]\n",
            " [65.67108971 62.3084339  59.13791655]\n",
            " ...\n",
            " [63.25280656 60.34513154 56.19390011]\n",
            " [79.50568783 73.66028156 71.28532619]\n",
            " [71.24085065 76.43088027 74.80061358]]\n",
            "True label:         MathScore  ReadingScore  WritingScore\n",
            "23775         59            62            57\n",
            "10638         69            77            77\n",
            "17851         88            84            84\n",
            "20871         82            96            91\n",
            "9814          73            82            76\n",
            "...          ...           ...           ...\n",
            "4293          71            78            75\n",
            "2001          81            82            74\n",
            "16746         83            81            72\n",
            "18202         71            62            69\n",
            "42            48            55            52\n",
            "\n",
            "[3849 rows x 3 columns]\n",
            "R-squared score: 0.18936199693196243\n",
            "MSE:  183.2279091286135\n"
          ]
        }
      ],
      "source": [
        "import pandas as pd\n",
        "import numpy as np\n",
        "from sklearn.compose import ColumnTransformer\n",
        "from sklearn.pipeline import Pipeline\n",
        "from sklearn.preprocessing import OneHotEncoder, StandardScaler, PolynomialFeatures\n",
        "from sklearn.model_selection import train_test_split\n",
        "from sklearn.linear_model import LinearRegression\n",
        "from sklearn.metrics import mean_squared_error\n",
        "import tensorflow as tf\n",
        "import keras\n",
        "\n",
        "# Load data\n",
        "test_scores_csv = pd.read_csv('/content/drive/MyDrive/Colab Notebooks/Datasets/test_scores.csv').dropna()\n",
        "\n",
        "\n",
        "# Define feature and label columns\n",
        "feature_columns = ['Gender', 'EthnicGroup', 'ParentEduc', 'TestPrep', 'ParentMaritalStatus', 'IsFirstChild', 'NrSiblings', 'TransportMeans', 'WklyStudyHours']\n",
        "label_columns = ['MathScore', 'ReadingScore', 'WritingScore']\n",
        "\n",
        "# Extract features and labels\n",
        "test_scores_features = test_scores_csv[feature_columns]\n",
        "test_scores_labels = test_scores_csv[label_columns]\n",
        "\n",
        "# Define transformers\n",
        "categorical_features = ['Gender', 'EthnicGroup', 'ParentEduc', 'TestPrep', 'ParentMaritalStatus', 'IsFirstChild', 'WklyStudyHours', 'TransportMeans']\n",
        "numeric_features = ['NrSiblings']\n",
        "\n",
        "# Create a column transformer\n",
        "preprocessor = ColumnTransformer(\n",
        "    transformers=[\n",
        "        ('categorical', OneHotEncoder(drop='first', sparse_output=False), categorical_features),\n",
        "        ('numeric', StandardScaler(), numeric_features),\n",
        "    ],\n",
        "    remainder='passthrough'\n",
        ")\n",
        "\n",
        "model = LinearRegression()\n",
        "\n",
        "# Create a pipeline\n",
        "pipeline = Pipeline([\n",
        "    ('preprocessor', preprocessor),\n",
        "    ('model', model)\n",
        "])\n",
        "\n",
        "# Split the data\n",
        "X_train, X_test, y_train, y_test = train_test_split(test_scores_features, test_scores_labels, test_size=0.2)\n",
        "\n",
        "print(test_scores_features.shape)\n",
        "print(test_scores_labels.shape)\n",
        "# Fit the model using the pipeline\n",
        "pipeline.fit(X_train, y_train)\n",
        "\n",
        "# Evaluate the model\n",
        "score = pipeline.score(X_test, y_test)\n",
        "prediction = pipeline.predict(X_test)\n",
        "print(\"Prediction: \", prediction)\n",
        "print(\"True label: \", y_test)\n",
        "\n",
        "print(\"R-squared score:\", score)\n",
        "mse = mean_squared_error(y_test, prediction)\n",
        "print(\"MSE: \", mse)\n",
        "\n"
      ]
    },
    {
      "cell_type": "markdown",
      "metadata": {
        "id": "iZe_ETDwCoyj"
      },
      "source": []
    }
  ],
  "metadata": {
    "colab": {
      "provenance": [],
      "mount_file_id": "10OtJhaF5DsYVl2zHcR3muhIv3e0F1vGz",
      "authorship_tag": "ABX9TyMgAnMrD+UmuRRhFB5+mmtN",
      "include_colab_link": true
    },
    "kernelspec": {
      "display_name": "Python 3",
      "name": "python3"
    },
    "language_info": {
      "name": "python"
    }
  },
  "nbformat": 4,
  "nbformat_minor": 0
}